{
  "nbformat": 4,
  "nbformat_minor": 0,
  "metadata": {
    "colab": {
      "name": "Colab Anaconda",
      "provenance": []
    },
    "kernelspec": {
      "name": "python3",
      "display_name": "Python 3"
    }
  },
  "cells": [
    {
      "cell_type": "markdown",
      "metadata": {
        "id": "Pj8MzdlpamIc"
      },
      "source": [
        "[Open In Colab](https://colab.research.google.com/assets/colab-badge.svg)](https://colab.research.google.com/github/a-parida12/RNN_Trials/blob/main/IntroRNNs.ipynb)\"\n",
        "      ]"
      ]
    },
    {
      "cell_type": "code",
      "metadata": {
        "id": "gaXUW97cB5_-"
      },
      "source": [
        "## IN YOUR LOCAL PC with jupyter conda env\n",
        "# 1. activate environment \n",
        "### conda activate NAME(cxr)\n",
        "# 2. export env\n",
        "### conda env export > environment.yml"
      ],
      "execution_count": null,
      "outputs": []
    },
    {
      "cell_type": "code",
      "metadata": {
        "id": "uhPa9rgzGFo5"
      },
      "source": [
        "#Install Miniconda due to size constraints\n",
        "!wget -c https://repo.anaconda.com/miniconda/Miniconda3-4.5.4-Linux-x86_64.sh\n",
        "!chmod +x Miniconda3-4.5.4-Linux-x86_64.sh\n",
        "!bash ./Miniconda3-4.5.4-Linux-x86_64.sh -b -f -p /usr/local"
      ],
      "execution_count": null,
      "outputs": []
    },
    {
      "cell_type": "code",
      "metadata": {
        "colab": {
          "base_uri": "https://localhost:8080/"
        },
        "id": "4Bf3UbukLSYF",
        "outputId": "fc0e2750-af8d-4a21-d16f-5aabf4e9e85c"
      },
      "source": [
        "# Clone Git Environment\n",
        "! git clone https://github.com/a-parida12/condaEnvCoLab.git"
      ],
      "execution_count": 17,
      "outputs": [
        {
          "output_type": "stream",
          "text": [
            "Cloning into 'RNN_Trials'...\n",
            "remote: Enumerating objects: 26, done.\u001b[K\n",
            "remote: Counting objects: 100% (26/26), done.\u001b[K\n",
            "remote: Compressing objects: 100% (17/17), done.\u001b[K\n",
            "remote: Total 26 (delta 9), reused 21 (delta 7), pack-reused 0\u001b[K\n",
            "Unpacking objects: 100% (26/26), done.\n"
          ],
          "name": "stdout"
        }
      ]
    },
    {
      "cell_type": "code",
      "metadata": {
        "colab": {
          "base_uri": "https://localhost:8080/"
        },
        "id": "hvZFvZ60FQaJ",
        "outputId": "ff23d7b4-53b3-4483-8023-dcefc1d0f64e"
      },
      "source": [
        "# recreate your local environment from the environment yml in git or path\n",
        "!conda env create -f /content/condaEnvCoLab/environment.yml"
      ],
      "execution_count": 7,
      "outputs": [
        {
          "output_type": "stream",
          "text": [
            "Solving environment: - \b\b\\ \b\b| \b\b/ \b\b- \b\b\\ \b\b| \b\b/ \b\b- \b\b\\ \b\b| \b\b/ \b\b- \b\b\\ \b\b| \b\b/ \b\b- \b\b\\ \b\b| \b\b/ \b\b- \b\b\\ \b\b| \b\b/ \b\b- \b\b\\ \b\b| \b\b/ \b\b- \b\b\\ \b\b| \b\b/ \b\b- \b\b\\ \b\b| \b\b/ \b\b- \b\b\\ \b\b| \b\b/ \b\b- \b\b\\ \b\b| \b\b/ \b\b- \b\b\\ \b\b| \b\b/ \b\b- \b\b\\ \b\b| \b\b/ \b\b- \b\b\\ \b\b| \b\b/ \b\b- \b\b\\ \b\b| \b\b/ \b\b- \b\b\\ \b\b| \b\b/ \b\b- \b\b\\ \b\b| \b\b/ \b\b- \b\b\\ \b\b| \b\b/ \b\b- \b\b\\ \b\b| \b\b/ \b\b- \b\b\\ \b\b| \b\b/ \b\b- \b\b\\ \b\b| \b\b/ \b\b- \b\b\\ \b\b| \b\b/ \b\b- \b\b\\ \b\b| \b\b/ \b\b- \b\b\\ \b\b| \b\b/ \b\b- \b\b\\ \b\b| \b\b/ \b\b- \b\b\\ \b\bdone\n",
            "\n",
            "\n",
            "==> WARNING: A newer version of conda exists. <==\n",
            "  current version: 4.5.4\n",
            "  latest version: 4.9.2\n",
            "\n",
            "Please update conda by running\n",
            "\n",
            "    $ conda update -n base conda\n",
            "\n",
            "\n",
            "\n",
            "Downloading and Extracting Packages\n",
            "zlib-1.2.11          |  120 KB | : 100% 1.0/1 [00:00<00:00,  3.29it/s]               \n",
            "_libgcc_mutex-0.1    |    2 KB | : 100% 1.0/1 [00:00<00:00, 17.55it/s]\n",
            "readline-8.0         |  281 KB | : 100% 1.0/1 [00:00<00:00,  5.02it/s]               \n",
            "python_abi-3.8       |    4 KB | : 100% 1.0/1 [00:00<00:00, 17.87it/s]\n",
            "libgcc-ng-9.2.0      |  8.6 MB | : 100% 1.0/1 [00:02<00:00,  2.26s/it]               \n",
            "six-1.15.0           |   14 KB | : 100% 1.0/1 [00:00<00:00, 16.76it/s]\n",
            "libffi-3.2.1         |   47 KB | : 100% 1.0/1 [00:00<00:00, 14.73it/s]\n",
            "pip-20.3.3           |  1.1 MB | : 100% 1.0/1 [00:00<00:00,  1.79it/s]               \n",
            "sqlite-3.33.0        |  1.4 MB | : 100% 1.0/1 [00:00<00:00,  2.10it/s]               \n",
            "openssl-1.1.1h       |  2.1 MB | : 100% 1.0/1 [00:00<00:00,  1.34it/s]               \n",
            "xz-5.2.5             |  343 KB | : 100% 1.0/1 [00:00<00:00,  5.40it/s]               \n",
            "tk-8.6.10            |  3.2 MB | : 100% 1.0/1 [00:00<00:00,  1.00it/s]               \n",
            "wheel-0.36.2         |   31 KB | : 100% 1.0/1 [00:00<00:00,  4.98it/s]                \n",
            "certifi-2020.12.5    |  143 KB | : 100% 1.0/1 [00:00<00:00, 10.46it/s]\n",
            "libstdcxx-ng-9.3.0   |  4.0 MB | : 100% 1.0/1 [00:01<00:00,  1.03s/it]               \n",
            "ld_impl_linux-64-2.3 |  617 KB | : 100% 1.0/1 [00:00<00:00,  3.69it/s]               \n",
            "asn1crypto-1.3.0     |  160 KB | : 100% 1.0/1 [00:00<00:00,  4.18it/s]                \n",
            "ncurses-6.2          |  985 KB | : 100% 1.0/1 [00:01<00:00,  1.11s/it]               \n",
            "absl-py-0.9.0        |  163 KB | : 100% 1.0/1 [00:00<00:00,  3.84it/s]                \n",
            "python-3.8.6         | 22.1 MB | : 100% 1.0/1 [00:06<00:00,  6.02s/it]               \n",
            "ca-certificates-2020 |  137 KB | : 100% 1.0/1 [00:00<00:00,  8.99it/s]\n",
            "zstd-1.3.7           |  887 KB | : 100% 1.0/1 [00:00<00:00,  2.77it/s]               \n",
            "setuptools-49.6.0    |  929 KB | : 100% 1.0/1 [00:00<00:00,  1.89it/s]               \n",
            "Preparing transaction: / \b\b- \b\b\\ \b\b| \b\bdone\n",
            "Verifying transaction: - \b\b\\ \b\b| \b\b/ \b\b- \b\b\\ \b\b| \b\b/ \b\b- \b\b\\ \b\b| \b\b/ \b\b- \b\b\\ \b\b| \b\b/ \b\b- \b\b\\ \b\b| \b\b/ \b\b- \b\bdone\n",
            "Executing transaction: | \b\b/ \b\b- \b\b\\ \b\b| \b\b/ \b\b- \b\b\\ \b\b| \b\b/ \b\b- \b\b\\ \b\b| \b\b/ \b\b- \b\b\\ \b\b| \b\b/ \b\b- \b\b\\ \b\b| \b\b/ \b\b- \b\b\\ \b\b| \b\b/ \b\b- \b\b\\ \b\b| \b\b/ \b\b- \b\b\\ \b\b| \b\b/ \b\b- \b\b\\ \b\b| \b\b/ \b\b- \b\b\\ \b\b| \b\b/ \b\b- \b\b\\ \b\b| \b\b/ \b\b- \b\b\\ \b\b| \b\b/ \b\b- \b\b\\ \b\b| \b\b/ \b\b- \b\b\\ \b\b| \b\b/ \b\b- \b\b\\ \b\b| \b\b/ \b\b- \b\b\\ \b\b| \b\b/ \b\b- \b\b\\ \b\b| \b\b/ \b\b- \b\b\\ \b\b| \b\b/ \b\b- \b\b\\ \b\b| \b\b/ \b\b- \b\b\\ \b\b| \b\b/ \b\b- \b\b\\ \b\b| \b\b/ \b\b- \b\b\\ \b\b| \b\b/ \b\b- \b\b\\ \b\b| \b\b/ \b\b- \b\b\\ \b\b| \b\b/ \b\b- \b\b\\ \b\b| \b\b/ \b\b- \b\b\\ \b\b| \b\b/ \b\b- \b\b\\ \b\b| \b\b/ \b\b- \b\b\\ \b\b| \b\b/ \b\b- \b\b\\ \b\b| \b\b/ \b\b- \b\b\\ \b\b| \b\b/ \b\b- \b\b\\ \b\b| \b\b/ \b\b- \b\b\\ \b\b| \b\b/ \b\b- \b\b\\ \b\b| \b\b/ \b\b- \b\b\\ \b\b| \b\b/ \b\b- \b\b\\ \b\b| \b\b/ \b\b- \b\b\\ \b\b| \b\b/ \b\b- \b\b\\ \b\b| \b\b/ \b\b- \b\b\\ \b\b| \b\b/ \b\b- \b\b\\ \b\b| \b\b/ \b\b- \b\b\\ \b\b| \b\b/ \b\b- \b\b\\ \b\b| \b\b/ \b\b- \b\b\\ \b\b| \b\b/ \b\b- \b\b\\ \b\b| \b\b/ \b\b- \b\b\\ \b\b| \b\b/ \b\b- \b\b\\ \b\b| \b\b/ \b\b- \b\b\\ \b\b| \b\b/ \b\b- \b\b\\ \b\b| \b\b/ \b\b- \b\b\\ \b\b| \b\b/ \b\b- \b\b\\ \b\b| \b\b/ \b\b- \b\b\\ \b\b| \b\b/ \b\b- \b\b\\ \b\b| \b\b/ \b\b- \b\b\\ \b\b| \b\b/ \b\b- \b\b\\ \b\b| \b\b/ \b\b- \b\b\\ \b\b| \b\b/ \b\b- \b\b\\ \b\b| \b\b/ \b\b- \b\b\\ \b\b| \b\b/ \b\b- \b\b\\ \b\b| \b\b/ \b\b- \b\b\\ \b\b| \b\b/ \b\b- \b\b\\ \b\b| \b\b/ \b\b- \b\b\\ \b\b| \b\b/ \b\b- \b\b\\ \b\bdone\n",
            "#\n",
            "# To activate this environment, use:\n",
            "# > source activate cxr\n",
            "#\n",
            "# To deactivate an active environment, use:\n",
            "# > source deactivate\n",
            "#\n",
            "\n"
          ],
          "name": "stdout"
        }
      ]
    },
    {
      "cell_type": "code",
      "metadata": {
        "colab": {
          "base_uri": "https://localhost:8080/"
        },
        "id": "Mj2echWgItyP",
        "outputId": "4e8e55dc-1baf-4dba-b239-42b944b3eda7"
      },
      "source": [
        "# activate your conda environment\n",
        "%%bash\n",
        "source activate cxr\n",
        "python /content/condaEnvCoLab/train.py\n"
      ],
      "execution_count": 14,
      "outputs": [
        {
          "output_type": "stream",
          "text": [
            "Python version\n",
            "3.8.6 | packaged by conda-forge | (default, Oct  7 2020, 19:08:05) \n",
            "[GCC 7.5.0]\n"
          ],
          "name": "stdout"
        }
      ]
    },
    {
      "cell_type": "code",
      "metadata": {
        "id": "Wpqyel3cJL8j"
      },
      "source": [
        "# This cell no longer has the environmment active\n",
        "python /content/condaEnvCoLab/train.py"
      ],
      "execution_count": null,
      "outputs": []
    }
  ]
}