{
  "nbformat": 4,
  "nbformat_minor": 0,
  "metadata": {
    "colab": {
      "name": "Colab Anaconda",
      "provenance": []
    },
    "kernelspec": {
      "name": "python3",
      "display_name": "Python 3"
    }
  },
  "cells": [
    {
      "cell_type": "markdown",
      "metadata": {
        "id": "Pj8MzdlpamIc"
      },
      "source": [
        "[![Open In Colab](https://colab.research.google.com/assets/colab-badge.svg)](https://colab.research.google.com/github/a-parida12/RNN_Trials/blob/main/IntroRNNs.ipynb)"
      ]
    },
    {
      "cell_type": "code",
      "metadata": {
        "id": "gaXUW97cB5_-"
      },
      "source": [
        "## IN YOUR LOCAL PC with jupyter conda env\n",
        "# 1. activate environment \n",
        "### conda activate NAME(cxr)\n",
        "# 2. export env\n",
        "### conda env export > environment.yml\n",
        "# 3. add it to the git repo"
      ],
      "execution_count": null,
      "outputs": []
    },
    {
      "cell_type": "code",
      "metadata": {
        "id": "uhPa9rgzGFo5"
      },
      "source": [
        "#Install Miniconda due to size constraints\n",
        "!wget -c https://repo.anaconda.com/miniconda/Miniconda3-4.5.4-Linux-x86_64.sh\n",
        "!chmod +x Miniconda3-4.5.4-Linux-x86_64.sh\n",
        "!bash ./Miniconda3-4.5.4-Linux-x86_64.sh -b -f -p /usr/local"
      ],
      "execution_count": null,
      "outputs": []
    },
    {
      "cell_type": "code",
      "metadata": {
        "id": "4Bf3UbukLSYF"
      },
      "source": [
        "# Clone Git Environment\n",
        "! git clone https://github.com/a-parida12/condaEnvCoLab.git"
      ],
      "execution_count": null,
      "outputs": []
    },
    {
      "cell_type": "code",
      "metadata": {
        "id": "hvZFvZ60FQaJ"
      },
      "source": [
        "# recreate your local environment from the environment yml in git or path\n",
        "!conda env create -f /content/condaEnvCoLab/environment.yml"
      ],
      "execution_count": null,
      "outputs": []
    },
    {
      "cell_type": "code",
      "metadata": {
        "id": "Mj2echWgItyP"
      },
      "source": [
        "# activate your conda environment\n",
        "%%bash\n",
        "source activate cxr\n",
        "# run the train.py file in the cloned git repo\n",
        "python /content/condaEnvCoLab/train.py\n"
      ],
      "execution_count": null,
      "outputs": []
    },
    {
      "cell_type": "code",
      "metadata": {
        "id": "Wpqyel3cJL8j"
      },
      "source": [
        "# This cell no longer has the environmment active\n",
        "!python /content/condaEnvCoLab/train.py"
      ],
      "execution_count": null,
      "outputs": []
    },
    {
      "cell_type": "code",
      "metadata": {
        "id": "ke9WQ8TzeUx-"
      },
      "source": [
        ""
      ],
      "execution_count": null,
      "outputs": []
    }
  ]
}